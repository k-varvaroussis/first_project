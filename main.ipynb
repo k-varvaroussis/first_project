{
 "cells": [
  {
   "cell_type": "code",
   "execution_count": null,
   "metadata": {},
   "outputs": [],
   "source": [
    "%matplotlib inline\n",
    "import pandas as pd\n",
    "from pandas.plotting import scatter_matrix\n",
    "import numpy as np\n",
    "from matplotlib import pyplot as plt\n",
    "from pylab import *  # for figsize\n",
    "import matplotlib.dates as mdates\n",
    "from statsmodels.graphics.gofplots import qqplot\n",
    "from scipy.stats import shapiro\n",
    "import seaborn as sns\n",
    "sns.set()\n",
    "sns.set(style=\"ticks\")\n",
    "\n",
    "import sklearn as sl\n",
    "import sklearn.linear_model\n",
    "import sklearn.datasets\n",
    "from sklearn.model_selection import StratifiedShuffleSplit\n",
    "from sklearn.model_selection import StratifiedKFold\n",
    "from sklearn.linear_model import LinearRegression\n",
    "import io\n",
    "import requests\n",
    "import os\n",
    "import tarfile\n",
    "from six.moves import urllib\n",
    "from sklearn.preprocessing import Imputer\n",
    "from sklearn.preprocessing import LabelEncoder\n",
    "from sklearn.preprocessing import OneHotEncoder\n",
    "from sklearn.preprocessing import LabelBinarizer\n",
    "from sklearn.base import BaseEstimator, TransformerMixin\n",
    "from sklearn.pipeline import Pipeline\n",
    "from sklearn.preprocessing import StandardScaler\n",
    "#from future_encoders import ColumnTransformer\n",
    "from sklearn.model_selection import StratifiedShuffleSplit as SSS\n",
    "from sklearn.preprocessing import Normalizer\n",
    "from sklearn import preprocessing\n",
    "from sklearn.model_selection import train_test_split\n",
    "from sklearn.metrics import mean_squared_error\n",
    "import pytz\n",
    "import tzlocal\n",
    "from pytz import timezone\n",
    "from matplotlib.pyplot import figure\n",
    "figure(num=None, figsize=(8, 6), dpi=80, facecolor='w', edgecolor='k')"
   ]
  },
  {
   "cell_type": "code",
   "execution_count": null,
   "metadata": {},
   "outputs": [],
   "source": [
    "#sns.__version__ # test seaborn version"
   ]
  },
  {
   "cell_type": "code",
   "execution_count": null,
   "metadata": {},
   "outputs": [],
   "source": [
    "pd.set_option('display.max_rows', 500)\n",
    "pd.set_option('display.max_columns', 500)\n",
    "pd.set_option('display.width', 1000)\n",
    "\n",
    "pd.options.display.max_rows\n",
    "pd.set_option('display.max_colwidth', -1)"
   ]
  },
  {
   "cell_type": "code",
   "execution_count": null,
   "metadata": {},
   "outputs": [],
   "source": [
    "df = pd.read_table('household_power_consumption.txt',sep = \";\", header = 0)\n",
    "                   #names = [\"Date\",\"Time\",\"Global_active_power\",\"Global_reactive_power\",\"Voltage\",\n",
    "                   #\"Global_intensity\",\"Sub_metering_1\",\"Sub_metering_2\",\"Sub_metering_3\"])"
   ]
  },
  {
   "cell_type": "code",
   "execution_count": null,
   "metadata": {},
   "outputs": [],
   "source": [
    "#data= pd.read_table('household_power_consumption.txt', sep=';',\n",
    "#\n",
    "#                parse_dates={'dt' : ['Date', 'Time']}, infer_datetime_format=True,\n",
    "#\n",
    "#                low_memory=False, na_values=['nan','?'], index_col='dt')"
   ]
  },
  {
   "cell_type": "code",
   "execution_count": null,
   "metadata": {},
   "outputs": [],
   "source": [
    "df.head()"
   ]
  },
  {
   "cell_type": "code",
   "execution_count": null,
   "metadata": {},
   "outputs": [],
   "source": [
    "df.loc[141637]"
   ]
  },
  {
   "cell_type": "code",
   "execution_count": null,
   "metadata": {},
   "outputs": [],
   "source": []
  },
  {
   "cell_type": "code",
   "execution_count": null,
   "metadata": {},
   "outputs": [],
   "source": []
  },
  {
   "cell_type": "code",
   "execution_count": null,
   "metadata": {},
   "outputs": [],
   "source": []
  },
  {
   "cell_type": "code",
   "execution_count": null,
   "metadata": {},
   "outputs": [],
   "source": []
  },
  {
   "cell_type": "markdown",
   "metadata": {},
   "source": [
    "### Create datetime column from date and time column"
   ]
  },
  {
   "cell_type": "code",
   "execution_count": null,
   "metadata": {},
   "outputs": [],
   "source": [
    "df['Datetime'] = df['Date'] + \" \" + df['Time']"
   ]
  },
  {
   "cell_type": "code",
   "execution_count": null,
   "metadata": {},
   "outputs": [],
   "source": [
    "df.info()"
   ]
  },
  {
   "cell_type": "code",
   "execution_count": null,
   "metadata": {},
   "outputs": [],
   "source": [
    "df.Datetime = pd.to_datetime(df.Datetime)"
   ]
  },
  {
   "cell_type": "code",
   "execution_count": null,
   "metadata": {},
   "outputs": [],
   "source": [
    "df = df.drop(columns = [\"Date\", \"Time\"])"
   ]
  },
  {
   "cell_type": "code",
   "execution_count": null,
   "metadata": {},
   "outputs": [],
   "source": [
    "cols = df.columns.tolist()"
   ]
  },
  {
   "cell_type": "code",
   "execution_count": null,
   "metadata": {},
   "outputs": [],
   "source": [
    "cols = cols[-1:] + cols[:-1]"
   ]
  },
  {
   "cell_type": "code",
   "execution_count": null,
   "metadata": {},
   "outputs": [],
   "source": [
    "df = df[cols]"
   ]
  },
  {
   "cell_type": "markdown",
   "metadata": {},
   "source": [
    "### Convert object-columns to float"
   ]
  },
  {
   "cell_type": "code",
   "execution_count": null,
   "metadata": {},
   "outputs": [],
   "source": [
    "df2 = df[[\n",
    " 'Global_active_power',\n",
    " 'Global_reactive_power',\n",
    " 'Voltage',\n",
    " 'Global_intensity',\n",
    " 'Sub_metering_1',\n",
    " 'Sub_metering_2']]"
   ]
  },
  {
   "cell_type": "code",
   "execution_count": null,
   "metadata": {},
   "outputs": [],
   "source": [
    "for column in df2:\n",
    "    df2[column] = pd.to_numeric(df2[column], errors = \"coerce\" )"
   ]
  },
  {
   "cell_type": "code",
   "execution_count": null,
   "metadata": {},
   "outputs": [],
   "source": [
    "#df2.info()"
   ]
  },
  {
   "cell_type": "code",
   "execution_count": null,
   "metadata": {},
   "outputs": [],
   "source": [
    "df2[\"Datetime\"] = df.Datetime\n",
    "df2[\"Sub_metering_3\"] = df.Sub_metering_3"
   ]
  },
  {
   "cell_type": "code",
   "execution_count": null,
   "metadata": {},
   "outputs": [],
   "source": [
    "df2.info()"
   ]
  },
  {
   "cell_type": "code",
   "execution_count": null,
   "metadata": {},
   "outputs": [],
   "source": [
    "df2 = df2[['Datetime',\n",
    " 'Global_active_power',\n",
    " 'Global_reactive_power',\n",
    " 'Voltage',\n",
    " 'Global_intensity',\n",
    " 'Sub_metering_1',\n",
    " 'Sub_metering_2',\n",
    "          'Sub_metering_3']]"
   ]
  },
  {
   "cell_type": "markdown",
   "metadata": {},
   "source": [
    "### set datetime as index"
   ]
  },
  {
   "cell_type": "code",
   "execution_count": null,
   "metadata": {},
   "outputs": [],
   "source": [
    "df2 = df2.set_index(\"Datetime\")"
   ]
  },
  {
   "cell_type": "markdown",
   "metadata": {},
   "source": [
    "### Missing values"
   ]
  },
  {
   "cell_type": "code",
   "execution_count": null,
   "metadata": {
    "scrolled": true
   },
   "outputs": [],
   "source": [
    "pd.isnull(df2).sum()"
   ]
  },
  {
   "cell_type": "code",
   "execution_count": null,
   "metadata": {},
   "outputs": [],
   "source": [
    "df2[df2.Voltage.isnull()].info()"
   ]
  },
  {
   "cell_type": "markdown",
   "metadata": {},
   "source": [
    "global_active_power.isnull() -> 2006-12-21 11:23:00 to 2010-10-24 15:35:00  -> 25979 entries"
   ]
  },
  {
   "cell_type": "markdown",
   "metadata": {},
   "source": [
    "### Drop NANs"
   ]
  },
  {
   "cell_type": "code",
   "execution_count": null,
   "metadata": {},
   "outputs": [],
   "source": [
    "df2[df2.Voltage.isnull()].info()"
   ]
  },
  {
   "cell_type": "code",
   "execution_count": null,
   "metadata": {},
   "outputs": [],
   "source": [
    "df3 = df2[~ df2.Voltage.isnull()]"
   ]
  },
  {
   "cell_type": "code",
   "execution_count": null,
   "metadata": {},
   "outputs": [],
   "source": [
    "df3.isnull().sum()"
   ]
  },
  {
   "cell_type": "code",
   "execution_count": null,
   "metadata": {},
   "outputs": [],
   "source": [
    "df3.info()"
   ]
  },
  {
   "cell_type": "markdown",
   "metadata": {},
   "source": [
    "2049280 < 2075259"
   ]
  },
  {
   "cell_type": "markdown",
   "metadata": {},
   "source": [
    "### Descriptive statistics"
   ]
  },
  {
   "cell_type": "code",
   "execution_count": null,
   "metadata": {},
   "outputs": [],
   "source": [
    "df3.describe()"
   ]
  },
  {
   "cell_type": "code",
   "execution_count": null,
   "metadata": {},
   "outputs": [],
   "source": [
    "#sns.pairplot(df2)"
   ]
  },
  {
   "cell_type": "markdown",
   "metadata": {},
   "source": [
    "### Create time series plot "
   ]
  },
  {
   "cell_type": "code",
   "execution_count": null,
   "metadata": {},
   "outputs": [],
   "source": [
    "#sns.tsplot([df3.Global_active_power], color=\"indianred\")"
   ]
  },
  {
   "cell_type": "code",
   "execution_count": null,
   "metadata": {},
   "outputs": [],
   "source": [
    "#sns.lineplot(x=df3.index, y=df3.Global_active_power,\n",
    "#             style=\"event\",\n",
    "#             data=df3)"
   ]
  },
  {
   "cell_type": "code",
   "execution_count": null,
   "metadata": {},
   "outputs": [],
   "source": [
    "#sns.__version__"
   ]
  },
  {
   "cell_type": "code",
   "execution_count": null,
   "metadata": {},
   "outputs": [],
   "source": [
    " gap =  df3.Global_active_power.cumsum()"
   ]
  },
  {
   "cell_type": "code",
   "execution_count": null,
   "metadata": {},
   "outputs": [],
   "source": [
    "gap.plot()"
   ]
  },
  {
   "cell_type": "code",
   "execution_count": null,
   "metadata": {},
   "outputs": [],
   "source": [
    "grp =  df3.Global_reactive_power.cumsum()\n",
    "grp.plot()"
   ]
  },
  {
   "cell_type": "code",
   "execution_count": null,
   "metadata": {},
   "outputs": [],
   "source": [
    "df3[\"2006-12-17\"][\"Global_reactive_power\"].plot()"
   ]
  },
  {
   "cell_type": "markdown",
   "metadata": {},
   "source": [
    "### Calculate yearly energy from household power consumption (probably wrong)"
   ]
  },
  {
   "cell_type": "markdown",
   "metadata": {},
   "source": [
    "Calculate the yearly power of the household"
   ]
  },
  {
   "cell_type": "code",
   "execution_count": null,
   "metadata": {},
   "outputs": [],
   "source": [
    "yearly_power = df3[\"2007\"][\"Global_active_power\"].sum()\n",
    "yearly_power"
   ]
  },
  {
   "cell_type": "markdown",
   "metadata": {},
   "source": [
    "Convert it into kWh"
   ]
  },
  {
   "cell_type": "code",
   "execution_count": null,
   "metadata": {},
   "outputs": [],
   "source": [
    "yearly_energy = yearly_power*24*365\n",
    "yearly_energy"
   ]
  },
  {
   "cell_type": "markdown",
   "metadata": {},
   "source": [
    "### Submetered energy of different rooms per year (2007)"
   ]
  },
  {
   "cell_type": "markdown",
   "metadata": {},
   "source": [
    "We are adding the energy that was used in every minute up to get the energy of the year. Then we are adding the yearly energy of the 3 submeters to compare it with the energy of the household energy, calculated in the previous section. "
   ]
  },
  {
   "cell_type": "code",
   "execution_count": null,
   "metadata": {},
   "outputs": [],
   "source": [
    "complete_years = [\"2007\",\"2008\",\"2009\",\"2010\"]\n",
    "sm1 = []\n",
    "for i in complete_years:\n",
    "    sm1.append(df3[i][\"Sub_metering_1\"].sum())\n",
    "sm1"
   ]
  },
  {
   "cell_type": "code",
   "execution_count": null,
   "metadata": {},
   "outputs": [],
   "source": [
    "sm2 = []\n",
    "for i in complete_years:\n",
    "    sm2.append(df3[i][\"Sub_metering_2\"].sum())\n",
    "sm2"
   ]
  },
  {
   "cell_type": "code",
   "execution_count": null,
   "metadata": {},
   "outputs": [],
   "source": [
    "sm3 = []\n",
    "for i in complete_years:\n",
    "    sm3.append(df3[i][\"Sub_metering_3\"].sum())"
   ]
  },
  {
   "cell_type": "markdown",
   "metadata": {},
   "source": [
    "### submetered energy in kWh"
   ]
  },
  {
   "cell_type": "code",
   "execution_count": null,
   "metadata": {},
   "outputs": [],
   "source": [
    "submetered_energyWh = []\n",
    "for i in range(0,4):\n",
    "    submetered_energyWh.append((sm1[i] + sm2[i] + sm3[i])/1000)\n",
    "submetered_energy = submetered_energyWh \n",
    "submetered_energy"
   ]
  },
  {
   "cell_type": "markdown",
   "metadata": {},
   "source": [
    "### Total energy"
   ]
  },
  {
   "cell_type": "code",
   "execution_count": null,
   "metadata": {},
   "outputs": [],
   "source": [
    "total_energy = []\n",
    "for i in complete_years:\n",
    "    total_energy.append((df3[i][\"Global_active_power\"]/60).sum())"
   ]
  },
  {
   "cell_type": "code",
   "execution_count": null,
   "metadata": {},
   "outputs": [],
   "source": [
    "total_energy"
   ]
  },
  {
   "cell_type": "markdown",
   "metadata": {},
   "source": [
    "### Create yearly dataframe"
   ]
  },
  {
   "cell_type": "code",
   "execution_count": null,
   "metadata": {},
   "outputs": [],
   "source": [
    "yearly = pd.DataFrame(columns=[\"submetered_energy\", \"total_energy\"])"
   ]
  },
  {
   "cell_type": "code",
   "execution_count": null,
   "metadata": {},
   "outputs": [],
   "source": [
    "yearly[\"submetered_energy\"] = submetered_energy \n",
    "yearly[\"total_energy\"] = total_energy \n",
    "yearly.index = complete_years\n",
    "yearly"
   ]
  },
  {
   "cell_type": "markdown",
   "metadata": {},
   "source": [
    "### Percentage of submetered energy to overall energy"
   ]
  },
  {
   "cell_type": "code",
   "execution_count": null,
   "metadata": {
    "scrolled": true
   },
   "outputs": [],
   "source": [
    "yearly[\"percentage\"] = 100* yearly.submetered_energy / yearly.total_energy\n",
    "yearly"
   ]
  },
  {
   "cell_type": "markdown",
   "metadata": {},
   "source": [
    "### Change Unit of Global active power into watt hours"
   ]
  },
  {
   "cell_type": "code",
   "execution_count": null,
   "metadata": {},
   "outputs": [],
   "source": [
    "df3[\"Global_active_power\"] = df3.loc[:,\"Global_active_power\"] * 1000/60"
   ]
  },
  {
   "cell_type": "markdown",
   "metadata": {},
   "source": [
    "### household energy not submetered for every minute (in Wh)"
   ]
  },
  {
   "cell_type": "code",
   "execution_count": null,
   "metadata": {},
   "outputs": [],
   "source": [
    "not_submetered = df3[\"Global_active_power\"] - df3[\"Sub_metering_1\"] - df3[\"Sub_metering_2\"] - df3[\"Sub_metering_3\"]"
   ]
  },
  {
   "cell_type": "code",
   "execution_count": null,
   "metadata": {},
   "outputs": [],
   "source": [
    "df3[\"not_submetered\"] = not_submetered"
   ]
  },
  {
   "cell_type": "code",
   "execution_count": null,
   "metadata": {},
   "outputs": [],
   "source": [
    "df3.head()"
   ]
  },
  {
   "cell_type": "code",
   "execution_count": null,
   "metadata": {},
   "outputs": [],
   "source": [
    "not_submetered_yearly = not_submetered[\"2007\"].sum()\n",
    "not_submetered_yearly"
   ]
  },
  {
   "cell_type": "markdown",
   "metadata": {},
   "source": [
    "### Why i drop reactive energy"
   ]
  },
  {
   "cell_type": "markdown",
   "metadata": {},
   "source": [
    "According to these sources: https://entreprises-collectivites.engie.fr/energie-reactive-poste-deconomies/, https://fr.wikipedia.org/wiki/Puissance_en_r%C3%A9gime_alternatif (section: Mesure de la puissance) only customers connected to high tension are obliged to pay for reactive energy (when exceeding a certain limit). "
   ]
  },
  {
   "cell_type": "markdown",
   "metadata": {},
   "source": [
    "This means that our appartment owners, and even appartment house owners (and builder) do not have to pay for reactive energy, since they are not connected to high tension. Thus, if we aim for optimizing the economic benefit of appartment or house owners, we do not have to consider reactive energy."
   ]
  },
  {
   "cell_type": "markdown",
   "metadata": {},
   "source": [
    "### The daylight-saving-problem"
   ]
  },
  {
   "cell_type": "code",
   "execution_count": null,
   "metadata": {},
   "outputs": [],
   "source": [
    "df3.loc[\"2007-03-25 02:00:00 CET\"]#loc[141637]"
   ]
  },
  {
   "cell_type": "code",
   "execution_count": null,
   "metadata": {},
   "outputs": [],
   "source": [
    "df3.head()"
   ]
  },
  {
   "cell_type": "code",
   "execution_count": null,
   "metadata": {},
   "outputs": [],
   "source": [
    "utc = pytz.utc\n",
    "berlin = timezone('Europe/Berlin')"
   ]
  },
  {
   "cell_type": "code",
   "execution_count": null,
   "metadata": {},
   "outputs": [],
   "source": [
    "#df3.index = df3.index[berlin.normalize(berlin.localize(i).astimezone(utc).astimezone(berlin))]"
   ]
  },
  {
   "cell_type": "code",
   "execution_count": null,
   "metadata": {},
   "outputs": [],
   "source": [
    "aware_cest = []\n",
    "for i in df3.index.sort_values():\n",
    "    #unaware_cest = datetime.datetime.strptime(i,\"%Y-%m-%d %I:%M:%S\")\n",
    "    local_dt = berlin.localize(i)\n",
    "    local_dt_in_utc = local_dt.astimezone(utc)\n",
    "    back_to_local_dt = berlin.normalize(local_dt_in_utc.astimezone(berlin))\n",
    "    aware_cest.append(back_to_local_dt)"
   ]
  },
  {
   "cell_type": "code",
   "execution_count": null,
   "metadata": {},
   "outputs": [],
   "source": [
    "#aware_cest[141600:141637]"
   ]
  },
  {
   "cell_type": "code",
   "execution_count": null,
   "metadata": {},
   "outputs": [],
   "source": [
    "df4 = df3"
   ]
  },
  {
   "cell_type": "code",
   "execution_count": null,
   "metadata": {},
   "outputs": [],
   "source": [
    "df4.index = aware_cest"
   ]
  },
  {
   "cell_type": "code",
   "execution_count": null,
   "metadata": {},
   "outputs": [],
   "source": [
    "df4.head()"
   ]
  },
  {
   "cell_type": "code",
   "execution_count": null,
   "metadata": {},
   "outputs": [],
   "source": [
    "#for i in df3.loc[\"2007-03-25 02:00:00\" : \"2007-10-28 02:59:00\"].index.sort_values():\n",
    "#    print(i)"
   ]
  },
  {
   "cell_type": "markdown",
   "metadata": {},
   "source": [
    "### Check proportionality of Voltage and current to active power"
   ]
  },
  {
   "cell_type": "markdown",
   "metadata": {},
   "source": [
    "Multiply the columns and compare graphically. "
   ]
  },
  {
   "cell_type": "code",
   "execution_count": null,
   "metadata": {},
   "outputs": [],
   "source": [
    "df4[\"Apparent_power\"] = df4[\"Voltage\"] * df4[\"Global_intensity\"]"
   ]
  },
  {
   "cell_type": "code",
   "execution_count": null,
   "metadata": {},
   "outputs": [],
   "source": [
    "keeps = [\"Global_active_power\",\"Apparent_power\",]\n",
    "df5 = df4[keeps]\n",
    "df5[\"Global_active_power\"] = df5[\"Global_active_power\"]*60 #just transforming it back into Watt"
   ]
  },
  {
   "cell_type": "code",
   "execution_count": null,
   "metadata": {},
   "outputs": [],
   "source": [
    "#plt.plot_date(x=df4.index, y=[df4[\"Global_active_power\"], df4.Apparent_power],fmt=\"r-\")\n",
    "plt.figure(); df5[\"2007-12-18\"].plot(figsize=(10, 7)); plt.legend(loc='best')"
   ]
  },
  {
   "cell_type": "markdown",
   "metadata": {},
   "source": [
    "What we can see is, that the product of Voltage and Current is almost equal to the active power, which supports the dropping of the reactive power, since Voltage times current equals the apparent power, which in turn consists of reactive power and active power.\n",
    "Voltage times current equals active power times a factor, which is try to be hold constant by the network supplier."
   ]
  },
  {
   "cell_type": "markdown",
   "metadata": {},
   "source": [
    "Furthermore this graph raises the question of the dropping of voltage and current, since they might be proportional to active power. We are going to plot them. "
   ]
  },
  {
   "cell_type": "code",
   "execution_count": null,
   "metadata": {},
   "outputs": [],
   "source": [
    "df5[\"voltage\"] = df4[\"Voltage\"]\n",
    "df5[\"current\"] = df4[\"Global_intensity\"]"
   ]
  },
  {
   "cell_type": "code",
   "execution_count": null,
   "metadata": {},
   "outputs": [],
   "source": [
    "plt.figure();df5[\"2007-12-18\"].plot(figsize=(20, 15)); plt.legend(loc='best')"
   ]
  },
  {
   "cell_type": "markdown",
   "metadata": {},
   "source": [
    "### plot Voltage vs Current "
   ]
  },
  {
   "cell_type": "markdown",
   "metadata": {},
   "source": [
    "To determine possible correlation between them and active power"
   ]
  },
  {
   "cell_type": "code",
   "execution_count": null,
   "metadata": {},
   "outputs": [],
   "source": [
    "keeps2 = [\"voltage\",\"current\"]\n",
    "df6 = df5[keeps2]\n",
    "plt.figure(); df6[\"2007-12-18\"].plot(figsize = (12,8)); plt.show()"
   ]
  },
  {
   "cell_type": "code",
   "execution_count": null,
   "metadata": {},
   "outputs": [],
   "source": [
    "keeps3 = [\"current\"]\n",
    "df7 = df6[keeps3]\n",
    "plt.figure(); df7[\"2007-12-18\"].plot(figsize = (12,8)); plt.show()"
   ]
  },
  {
   "cell_type": "markdown",
   "metadata": {},
   "source": [
    "We can see that current has a almost perfecct linear relationsship with active power and the voltage basically scales it up to the appararent / active power."
   ]
  },
  {
   "cell_type": "markdown",
   "metadata": {},
   "source": [
    "The current is the physical cause of the active power, taking it as a predictor of it, would not make any sense. "
   ]
  },
  {
   "cell_type": "markdown",
   "metadata": {},
   "source": [
    "Also, of course, active power and current cannot be used as independent variables due to perfect multicollinearity. "
   ]
  },
  {
   "cell_type": "markdown",
   "metadata": {},
   "source": [
    "### Compare annualy energy consumption with average"
   ]
  },
  {
   "cell_type": "markdown",
   "metadata": {},
   "source": [
    "\n",
    "30 sqm apartment with collective heating and water heating, 2 occupants \t1669 kWh \t329 €"
   ]
  },
  {
   "cell_type": "markdown",
   "metadata": {},
   "source": [
    "80 sqm apartment with electric heating and water heating, 4 occupants \t14 520 kWh \t\t2132 €"
   ]
  },
  {
   "cell_type": "markdown",
   "metadata": {},
   "source": [
    "180 sqm house with electric heating and water heating, 5 occupants \t26 746 kWh          3900 €"
   ]
  },
  {
   "cell_type": "markdown",
   "metadata": {},
   "source": [
    "source: https://en.selectra.info/energy-france/guides/average-bill"
   ]
  },
  {
   "cell_type": "markdown",
   "metadata": {},
   "source": [
    "Based on these numbers, assuming that they are not to far from our time, i would say our household consists of 3 person, and is maybe 50-70 sqm. "
   ]
  },
  {
   "cell_type": "markdown",
   "metadata": {},
   "source": [
    "## Dataframe with Time-Multi-Index"
   ]
  },
  {
   "cell_type": "code",
   "execution_count": null,
   "metadata": {},
   "outputs": [],
   "source": [
    "keeps4 = [\"Global_active_power\",\"Sub_metering_1\",\"Sub_metering_2\",\"Sub_metering_3\"]\n",
    "df8 = df4[keeps4]"
   ]
  },
  {
   "cell_type": "code",
   "execution_count": null,
   "metadata": {},
   "outputs": [],
   "source": [
    "df8[\"minute\"] = df8.index.minute"
   ]
  },
  {
   "cell_type": "code",
   "execution_count": null,
   "metadata": {},
   "outputs": [],
   "source": [
    "df8[\"hour\"] = df8.index.hour"
   ]
  },
  {
   "cell_type": "code",
   "execution_count": null,
   "metadata": {},
   "outputs": [],
   "source": [
    "df8[\"day\"] = df8.index.day"
   ]
  },
  {
   "cell_type": "code",
   "execution_count": null,
   "metadata": {},
   "outputs": [],
   "source": [
    "df8[\"month\"] = df8.index.month"
   ]
  },
  {
   "cell_type": "code",
   "execution_count": null,
   "metadata": {},
   "outputs": [],
   "source": [
    "df8[\"year\"] = df8.index.year"
   ]
  },
  {
   "cell_type": "markdown",
   "metadata": {},
   "source": [
    "### Set index"
   ]
  },
  {
   "cell_type": "code",
   "execution_count": null,
   "metadata": {},
   "outputs": [],
   "source": [
    "df8.set_index([\"year\",\"month\",\"day\",\"hour\",\"minute\",df8.index],inplace = True)"
   ]
  },
  {
   "cell_type": "code",
   "execution_count": null,
   "metadata": {},
   "outputs": [],
   "source": [
    "df8 = df8.drop(df8.index[0:396]) #drop incomplete day for purpose of computing clean average"
   ]
  },
  {
   "cell_type": "code",
   "execution_count": null,
   "metadata": {},
   "outputs": [],
   "source": [
    "#df8.head()"
   ]
  },
  {
   "cell_type": "code",
   "execution_count": null,
   "metadata": {},
   "outputs": [],
   "source": [
    "df9 = df8   #for later use"
   ]
  },
  {
   "cell_type": "code",
   "execution_count": null,
   "metadata": {},
   "outputs": [],
   "source": [
    "df8 = df8.reset_index(level=0, drop = True) #drop year"
   ]
  },
  {
   "cell_type": "code",
   "execution_count": null,
   "metadata": {},
   "outputs": [],
   "source": [
    "df8.head()"
   ]
  },
  {
   "cell_type": "markdown",
   "metadata": {},
   "source": [
    "### Add non-submetered energy consumption as column"
   ]
  },
  {
   "cell_type": "code",
   "execution_count": null,
   "metadata": {},
   "outputs": [],
   "source": [
    "df8[\"not_submetered\"] = df8.Global_active_power - df8.Sub_metering_1 - df8.Sub_metering_2 - df8.Sub_metering_3"
   ]
  },
  {
   "cell_type": "markdown",
   "metadata": {},
   "source": [
    "### Dataframe with Date-time-index"
   ]
  },
  {
   "cell_type": "code",
   "execution_count": null,
   "metadata": {},
   "outputs": [],
   "source": [
    "df10 = df8"
   ]
  },
  {
   "cell_type": "code",
   "execution_count": null,
   "metadata": {},
   "outputs": [],
   "source": [
    "df10 = df10.reset_index(level = [\"month\",\"day\",\"hour\",\"minute\"], drop = True)"
   ]
  },
  {
   "cell_type": "code",
   "execution_count": null,
   "metadata": {},
   "outputs": [],
   "source": [
    "#df10.head()"
   ]
  },
  {
   "cell_type": "markdown",
   "metadata": {},
   "source": [
    "## Compute Seasons"
   ]
  },
  {
   "cell_type": "markdown",
   "metadata": {},
   "source": [
    "Compute Average day of summer, summer, winter, and summer and compare overall active energy with the energy consumption in the 3 submetered rooms"
   ]
  },
  {
   "cell_type": "markdown",
   "metadata": {},
   "source": [
    "First we need to create dataframes representing the different seasons over the years. Then we can use the resample function on them."
   ]
  },
  {
   "cell_type": "markdown",
   "metadata": {},
   "source": [
    "### For multi-index process"
   ]
  },
  {
   "cell_type": "code",
   "execution_count": null,
   "metadata": {},
   "outputs": [],
   "source": [
    "winter = pd.concat([df8.loc[12],df8.loc[1], df8.loc[2]])\n",
    "spring = pd.concat([df8.loc[3], df8.loc[4], df8.loc[5]])\n",
    "summer = pd.concat([df8.loc[6], df8.loc[7], df8.loc[8]])\n",
    "autumn = pd.concat([df8.loc[9], df8.loc[10], df8.loc[11]])"
   ]
  },
  {
   "cell_type": "markdown",
   "metadata": {},
   "source": [
    "### For datetime-index process"
   ]
  },
  {
   "cell_type": "code",
   "execution_count": null,
   "metadata": {},
   "outputs": [],
   "source": [
    "winter2 = pd.concat([df8.loc[12],df8.loc[1], df8.loc[2]]).reset_index(level = [\"day\",\"hour\",\"minute\"], drop = True)\n",
    "spring2 = pd.concat([df8.loc[3], df8.loc[4], df8.loc[5]]).reset_index(level = [\"day\",\"hour\",\"minute\"], drop = True)\n",
    "summer2 = pd.concat([df8.loc[6], df8.loc[7], df8.loc[8]]).reset_index(level = [\"day\",\"hour\",\"minute\"], drop = True)\n",
    "autumn2 = pd.concat([df8.loc[9], df8.loc[10], df8.loc[11]]).reset_index(level = [\"day\",\"hour\",\"minute\"], drop = True)"
   ]
  },
  {
   "cell_type": "code",
   "execution_count": null,
   "metadata": {},
   "outputs": [],
   "source": [
    "#winter2.head()"
   ]
  },
  {
   "cell_type": "markdown",
   "metadata": {},
   "source": [
    "## Average day computation"
   ]
  },
  {
   "cell_type": "markdown",
   "metadata": {},
   "source": [
    "### datetime-index resample (to do)"
   ]
  },
  {
   "cell_type": "code",
   "execution_count": null,
   "metadata": {},
   "outputs": [],
   "source": [
    "winter2.head()"
   ]
  },
  {
   "cell_type": "code",
   "execution_count": null,
   "metadata": {},
   "outputs": [],
   "source": [
    "#for i in winter2\n",
    "#winter2.groupby(winter2.index.minute).mean()"
   ]
  },
  {
   "cell_type": "markdown",
   "metadata": {},
   "source": [
    "### multi-index groupby"
   ]
  },
  {
   "cell_type": "code",
   "execution_count": null,
   "metadata": {},
   "outputs": [],
   "source": [
    "winter2 = winter"
   ]
  },
  {
   "cell_type": "code",
   "execution_count": null,
   "metadata": {},
   "outputs": [],
   "source": [
    "#winter2.head()"
   ]
  },
  {
   "cell_type": "code",
   "execution_count": null,
   "metadata": {},
   "outputs": [],
   "source": [
    "winter3 = winter2.groupby(level = [\"hour\",\"minute\"]).mean()\n",
    "average_winter_day = winter3.reset_index(drop = True)\n",
    "average_winter_day.index = winter4.index / 60"
   ]
  },
  {
   "cell_type": "markdown",
   "metadata": {},
   "source": [
    "### self-defined multi-index groupby"
   ]
  },
  {
   "cell_type": "code",
   "execution_count": null,
   "metadata": {},
   "outputs": [],
   "source": [
    "lst = []\n",
    "for j in range(24):\n",
    "    for i in range(60):\n",
    "        lst.append(winter.loc[j].xs(i,level=\"minute\").mean())"
   ]
  },
  {
   "cell_type": "code",
   "execution_count": null,
   "metadata": {},
   "outputs": [],
   "source": [
    "d = {\"active_power\": [lst[i][0] for i in range(len(lst))],\n",
    "     \"sub_meter_1\": [lst[i][1] for i in range(len(lst))],\n",
    "     \"sub_meter_2\": [lst[i][2] for i in range(len(lst))],\n",
    "     \"sub_meter_3\": [lst[i][3] for i in range(len(lst))],\n",
    "     \"not_submetered\": [lst[i][4] for i in range(len(lst))]}\n",
    "\n",
    "winter_average_day = pd.DataFrame(d, index = range(len(lst)))"
   ]
  },
  {
   "cell_type": "code",
   "execution_count": null,
   "metadata": {},
   "outputs": [],
   "source": [
    "winter_average_day[\"hours\"] = winter_average_day.index / 60"
   ]
  },
  {
   "cell_type": "markdown",
   "metadata": {},
   "source": [
    "Average summer day"
   ]
  },
  {
   "cell_type": "code",
   "execution_count": null,
   "metadata": {},
   "outputs": [],
   "source": [
    "summer = summer.reset_index(level = 0, drop = True)"
   ]
  },
  {
   "cell_type": "code",
   "execution_count": null,
   "metadata": {},
   "outputs": [],
   "source": [
    "lst1 = []\n",
    "for j in range(24):\n",
    "    for i in range(60):\n",
    "        lst1.append(summer.loc[j].xs(i,level=\"minute\").mean())"
   ]
  },
  {
   "cell_type": "code",
   "execution_count": null,
   "metadata": {},
   "outputs": [],
   "source": [
    "d = {\"active_power\": [lst1[i][0] for i in range(len(lst1))],\n",
    "     \"sub_meter_1\": [lst1[i][1] for i in range(len(lst1))],\n",
    "     \"sub_meter_2\": [lst1[i][2] for i in range(len(lst1))],\n",
    "     \"sub_meter_3\": [lst1[i][3] for i in range(len(lst1))],\n",
    "     \"not_submetered\": [lst1[i][4] for i in range(len(lst1))]}\n",
    "\n",
    "summer_average_day = pd.DataFrame(d, index = range(len(lst1)))"
   ]
  },
  {
   "cell_type": "code",
   "execution_count": null,
   "metadata": {},
   "outputs": [],
   "source": [
    "summer_average_day[\"hours\"] = summer_average_day.index / 60"
   ]
  },
  {
   "cell_type": "markdown",
   "metadata": {},
   "source": [
    "Average spring day"
   ]
  },
  {
   "cell_type": "code",
   "execution_count": null,
   "metadata": {},
   "outputs": [],
   "source": [
    "spring = spring.reset_index(level = 0, drop = True)\n",
    "\n",
    "lst3 = []\n",
    "for j in range(24):\n",
    "    for i in range(60):\n",
    "        lst3.append(spring.loc[j].xs(i,level=\"minute\").mean())\n",
    "\n",
    "d = {\"active_power\": [lst3[i][0] for i in range(len(lst3))],\n",
    "     \"sub_meter_1\": [lst3[i][1] for i in range(len(lst3))],\n",
    "     \"sub_meter_2\": [lst3[i][2] for i in range(len(lst3))],\n",
    "     \"sub_meter_3\": [lst3[i][3] for i in range(len(lst3))],\n",
    "     \"not_submetered\": [lst3[i][4] for i in range(len(lst3))]}\n",
    "\n",
    "spring_average_day = pd.DataFrame(d, index = range(len(lst3)))\n",
    "\n",
    "spring_average_day[\"hours\"] = spring_average_day.index / 60"
   ]
  },
  {
   "cell_type": "markdown",
   "metadata": {},
   "source": [
    "Average autumn Day"
   ]
  },
  {
   "cell_type": "code",
   "execution_count": null,
   "metadata": {},
   "outputs": [],
   "source": [
    "autumn = autumn.reset_index(level = 0, drop = True)\n",
    "\n",
    "lst2 = []\n",
    "for j in range(24):\n",
    "    for i in range(60):\n",
    "        lst2.append(autumn.loc[j].xs(i,level=\"minute\").mean())\n",
    "\n",
    "d = {\"active_power\": [lst2[i][0] for i in range(len(lst2))],\n",
    "     \"sub_meter_1\": [lst2[i][1] for i in range(len(lst2))],\n",
    "     \"sub_meter_2\": [lst2[i][2] for i in range(len(lst2))],\n",
    "     \"sub_meter_3\": [lst2[i][3] for i in range(len(lst2))],\n",
    "     \"not_submetered\": [lst2[i][4] for i in range(len(lst2))]}\n",
    "\n",
    "autumn_average_day = pd.DataFrame(d, index = range(len(lst2)))\n",
    "\n",
    "autumn_average_day[\"hours\"] = autumn_average_day.index / 60"
   ]
  },
  {
   "cell_type": "markdown",
   "metadata": {},
   "source": [
    "## Visualize: Seasonal Average Days"
   ]
  },
  {
   "cell_type": "markdown",
   "metadata": {},
   "source": [
    "### Plotting seasonal average days"
   ]
  },
  {
   "cell_type": "markdown",
   "metadata": {},
   "source": [
    "Plotting them seperately"
   ]
  },
  {
   "cell_type": "code",
   "execution_count": null,
   "metadata": {},
   "outputs": [],
   "source": [
    "plt.style.use('dark_background')\n",
    "plt.plot(winter_average_day.hours, winter_average_day.active_power)\n",
    "#plt.legend('HA', ncol=2, loc='upper left')\n",
    "plt.title(\"Average Winter Day\")\n",
    "plt.ylabel(\"Active energy (Wh)\")\n",
    "plt.xlabel(\"Time\")\n",
    "xticks(np.arange(0, 28, step=4))"
   ]
  },
  {
   "cell_type": "markdown",
   "metadata": {},
   "source": [
    "Plotting the together"
   ]
  },
  {
   "cell_type": "code",
   "execution_count": null,
   "metadata": {},
   "outputs": [],
   "source": [
    "#dark background\n",
    "plt.style.use('dark_background')\n",
    "\n",
    "#plot (in one) and label seasonal average days \n",
    "plt.plot(summer_average_day.hours, summer_average_day.active_power, label=\"summer\")\n",
    "plt.plot(winter_average_day.hours, winter_average_day.active_power, label = \"winter\")\n",
    "plt.plot(spring_average_day.hours, spring_average_day.active_power, label = \"spring\")\n",
    "plt.plot(autumn_average_day.hours, autumn_average_day.active_power, label = \"autumn\")\n",
    "\n",
    "#legend, title, and axis-labels\n",
    "plt.legend(bbox_to_anchor=(0., 1.02, 1., .102), loc=3,\n",
    "           ncol=2, mode=\"expand\", borderaxespad=0.,prop={'size': 20})\n",
    "plt.title(\"Average seasonal Days\",fontsize=20)\n",
    "plt.ylabel(\"Overall Energy cons. (Wh)\",fontsize=20)\n",
    "plt.xlabel(\"Time\",fontsize=20)\n",
    "\n",
    "# set ticks\n",
    "xticks(np.arange(0, 28, step=4),fontsize = 20)    \n",
    "\n",
    "#make figure bigger after plotting\n",
    "fig = matplotlib.pyplot.gcf()       \n",
    "fig.set_size_inches(18.5, 10.5)      \n",
    "fig.savefig('test2png.png', dpi=100)"
   ]
  },
  {
   "cell_type": "markdown",
   "metadata": {},
   "source": [
    "### Kitchen seasonal average day"
   ]
  },
  {
   "cell_type": "code",
   "execution_count": null,
   "metadata": {},
   "outputs": [],
   "source": [
    "#dark background\n",
    "plt.style.use('dark_background')\n",
    "\n",
    "#plot (in one) and label seasonal average days \n",
    "plt.plot(summer_average_day.hours, summer_average_day.sub_meter_1, label=\"summer\")\n",
    "plt.plot(winter_average_day.hours, winter_average_day.sub_meter_1, label = \"winter\")\n",
    "#plt.plot(spring_average_day.hours, spring_average_day.sub_meter_1, label = \"spring\")\n",
    "#plt.plot(autumn_average_day.hours, autumn_average_day.sub_meter_1, label = \"autumn\")\n",
    "\n",
    "#legend, title, and axis-labels\n",
    "plt.legend(bbox_to_anchor=(0., 1.02, 1., .102), loc=3,\n",
    "           ncol=2, mode=\"expand\", borderaxespad=0.,prop={'size': 20})\n",
    "plt.title(\"Average seasonal Day\",fontsize=20)\n",
    "plt.ylabel(\"Energy cons. Kitchen (Wh)\",fontsize=20)\n",
    "plt.xlabel(\"Time\",fontsize=20)\n",
    "\n",
    "# set ticks\n",
    "xticks(np.arange(0, 28, step=4),fontsize = 20)    \n",
    "\n",
    "#make figure bigger after plotting\n",
    "fig = matplotlib.pyplot.gcf()       \n",
    "fig.set_size_inches(18.5, 10.5)      \n",
    "fig.savefig('test2png.png', dpi=100)"
   ]
  },
  {
   "cell_type": "markdown",
   "metadata": {},
   "source": [
    "### Laundry room"
   ]
  },
  {
   "cell_type": "code",
   "execution_count": null,
   "metadata": {},
   "outputs": [],
   "source": [
    "#dark background\n",
    "plt.style.use('dark_background')\n",
    "\n",
    "#plot (in one) and label seasonal average days \n",
    "plt.plot(summer_average_day.hours, summer_average_day.sub_meter_2, label=\"summer\")\n",
    "plt.plot(winter_average_day.hours, winter_average_day.sub_meter_2, label = \"winter\")\n",
    "#plt.plot(spring_average_day.hours, spring_average_day.sub_meter_1, label = \"spring\")\n",
    "#plt.plot(autumn_average_day.hours, autumn_average_day.sub_meter_1, label = \"autumn\")\n",
    "\n",
    "#legend, title, and axis-labels\n",
    "plt.legend(bbox_to_anchor=(0., 1.02, 1., .102), loc=3,\n",
    "           ncol=2, mode=\"expand\", borderaxespad=0.,prop={'size': 20})\n",
    "plt.title(\"Average seasonal Day\",fontsize=20)\n",
    "plt.ylabel(\"Energy cons. laundry room (Wh)\",fontsize=20)\n",
    "plt.xlabel(\"Time\",fontsize=20)\n",
    "\n",
    "# set ticks\n",
    "xticks(np.arange(0, 28, step=4),fontsize = 20)    \n",
    "\n",
    "#make figure bigger after plotting\n",
    "fig = matplotlib.pyplot.gcf()       \n",
    "fig.set_size_inches(18.5, 10.5)      \n",
    "fig.savefig('test2png.png', dpi=100)"
   ]
  },
  {
   "cell_type": "markdown",
   "metadata": {},
   "source": [
    "### Water-heater & Air-con"
   ]
  },
  {
   "cell_type": "code",
   "execution_count": null,
   "metadata": {},
   "outputs": [],
   "source": [
    "#dark background\n",
    "plt.style.use('dark_background')\n",
    "\n",
    "#plot (in one) and label seasonal average days \n",
    "plt.plot(summer_average_day.hours, summer_average_day.sub_meter_3, label=\"summer\")\n",
    "plt.plot(winter_average_day.hours, winter_average_day.sub_meter_3, label = \"winter\")\n",
    "#plt.plot(spring_average_day.hours, spring_average_day.sub_meter_3, label = \"spring\")\n",
    "#plt.plot(autumn_average_day.hours, autumn_average_day.sub_meter_3, label = \"autumn\")\n",
    "\n",
    "#legend, title, and axis-labels\n",
    "plt.legend(bbox_to_anchor=(0., 1.02, 1., .102), loc=3,\n",
    "           ncol=2, mode=\"expand\", borderaxespad=0.,prop={'size': 20})\n",
    "plt.title(\"Average seasonal Day\",fontsize=20)\n",
    "plt.ylabel(\"Energy cons. Water heat. & air-con (Wh)\",fontsize=20)\n",
    "plt.xlabel(\"Time\",fontsize=20)\n",
    "\n",
    "# set ticks\n",
    "xticks(np.arange(0, 28, step=4),fontsize = 20)    \n",
    "\n",
    "#make figure bigger after plotting\n",
    "fig = matplotlib.pyplot.gcf()       \n",
    "fig.set_size_inches(18.5, 10.5)      \n",
    "fig.savefig('test2png.png', dpi=100)"
   ]
  },
  {
   "cell_type": "markdown",
   "metadata": {},
   "source": [
    "### Un-metered energy"
   ]
  },
  {
   "cell_type": "code",
   "execution_count": null,
   "metadata": {},
   "outputs": [],
   "source": [
    "#dark background\n",
    "plt.style.use('dark_background')\n",
    "\n",
    "#plot (in one) and label seasonal average days \n",
    "plt.plot(summer_average_day.hours, summer_average_day.not_submetered, label=\"summer\")\n",
    "plt.plot(winter_average_day.hours, winter_average_day.not_submetered, label = \"winter\")\n",
    "#plt.plot(spring_average_day.hours, spring_average_day.sub_meter_3, label = \"spring\")\n",
    "#plt.plot(autumn_average_day.hours, autumn_average_day.sub_meter_3, label = \"autumn\")\n",
    "\n",
    "#legend, title, and axis-labels\n",
    "plt.legend(bbox_to_anchor=(0., 1.02, 1., .102), loc=3,\n",
    "           ncol=2, mode=\"expand\", borderaxespad=0.,prop={'size': 20})\n",
    "plt.title(\"Average seasonal Day\",fontsize=20)\n",
    "plt.ylabel(\"Un-metered energy (Wh)\",fontsize=20)\n",
    "plt.xlabel(\"Time\",fontsize=20)\n",
    "\n",
    "# set ticks\n",
    "xticks(np.arange(0, 28, step=4),fontsize = 20)    \n",
    "\n",
    "#make figure bigger after plotting\n",
    "fig = matplotlib.pyplot.gcf()       \n",
    "fig.set_size_inches(18.5, 10.5)      #\n",
    "fig.savefig('test2png.png', dpi=100)"
   ]
  },
  {
   "cell_type": "markdown",
   "metadata": {},
   "source": [
    "## Visualize: Long-term Trends"
   ]
  },
  {
   "cell_type": "markdown",
   "metadata": {},
   "source": [
    "### Trend over months by groupby"
   ]
  },
  {
   "cell_type": "code",
   "execution_count": null,
   "metadata": {},
   "outputs": [],
   "source": [
    "df9[\"not_metered\"] = df9.Global_active_power - df9.Sub_metering_1 - df9.Sub_metering_2 - df9.Sub_metering_3"
   ]
  },
  {
   "cell_type": "code",
   "execution_count": null,
   "metadata": {},
   "outputs": [],
   "source": [
    "#df9.head()"
   ]
  },
  {
   "cell_type": "code",
   "execution_count": null,
   "metadata": {},
   "outputs": [],
   "source": [
    "monthly_means = df9.groupby(level = [\"year\",\"month\"]).mean()\n",
    "\n",
    "monthly_means = monthly_means.reset_index(drop = True)\n",
    "\n",
    "#monthly_means.index = monthly_means.index / 12"
   ]
  },
  {
   "cell_type": "code",
   "execution_count": null,
   "metadata": {},
   "outputs": [],
   "source": [
    "#monthly_means.head()"
   ]
  },
  {
   "cell_type": "markdown",
   "metadata": {},
   "source": [
    "### Trend over months by resample"
   ]
  },
  {
   "cell_type": "code",
   "execution_count": null,
   "metadata": {},
   "outputs": [],
   "source": [
    "#df10.head()"
   ]
  },
  {
   "cell_type": "code",
   "execution_count": null,
   "metadata": {},
   "outputs": [],
   "source": [
    "monthly_means2 = df10.resample('M').mean()"
   ]
  },
  {
   "cell_type": "code",
   "execution_count": null,
   "metadata": {},
   "outputs": [],
   "source": [
    "#dark background\n",
    "plt.style.use('dark_background')\n",
    "\n",
    "#plot (in one) and label seasonal average days \n",
    "plt.plot(monthly_means2.index, monthly_means2.not_submetered)\n",
    "#plt.plot(winter_average_day.hours, winter_average_day.not_submetered, label = \"winter\")\n",
    "#plt.plot(spring_average_day.hours, spring_average_day.sub_meter_3, label = \"spring\")\n",
    "#plt.plot(autumn_average_day.hours, autumn_average_day.sub_meter_3, label = \"autumn\")\n",
    "\n",
    "#legend, title, and axis-labels\n",
    "plt.legend(bbox_to_anchor=(0., 1.02, 1., .102), loc=3,\n",
    "           ncol=2, mode=\"expand\", borderaxespad=0.,prop={'size': 20})\n",
    "plt.title(\"Monthly means\",fontsize=20)\n",
    "plt.ylabel(\"Not metered energy (Wh)\",fontsize=20)\n",
    "plt.xlabel(\"Time\",fontsize=20)\n",
    "\n",
    "# set ticks\n",
    "#xticks(,fontsize = 20)    # TRY DATE RANGE HERE\n",
    "\n",
    "#make figure bigger after plotting\n",
    "fig = matplotlib.pyplot.gcf()       \n",
    "fig.set_size_inches(18.5, 10.5)      \n",
    "fig.savefig('test2png.png', dpi=100)"
   ]
  },
  {
   "cell_type": "markdown",
   "metadata": {},
   "source": [
    "### Weekly average"
   ]
  },
  {
   "cell_type": "markdown",
   "metadata": {},
   "source": [
    "For holiday detection"
   ]
  },
  {
   "cell_type": "code",
   "execution_count": null,
   "metadata": {},
   "outputs": [],
   "source": [
    "daily_means = df10.resample(\"D\").mean()"
   ]
  },
  {
   "cell_type": "code",
   "execution_count": null,
   "metadata": {},
   "outputs": [],
   "source": [
    "daily_means"
   ]
  },
  {
   "cell_type": "code",
   "execution_count": null,
   "metadata": {},
   "outputs": [],
   "source": [
    "start = pd.datetime(2008,5,10)\n",
    "end = pd.datetime(2008,11,1)\n",
    "rng = pd.date_range(start, end, freq='D')\n",
    "\n",
    "daily_means.loc[rng]\n",
    "\n",
    "#holiday = pd.Series(df10.resample(\"W\").mean(), index=rng)"
   ]
  },
  {
   "cell_type": "code",
   "execution_count": null,
   "metadata": {},
   "outputs": [],
   "source": [
    "#dark background\n",
    "plt.style.use('dark_background')\n",
    "\n",
    "#plot (in one) and label seasonal average days \n",
    "plt.plot(weekly_means.index, weekly_means.not_submetered)\n",
    "#plt.plot(winter_average_day.hours, winter_average_day.not_submetered, label = \"winter\")\n",
    "#plt.plot(spring_average_day.hours, spring_average_day.sub_meter_3, label = \"spring\")\n",
    "#plt.plot(autumn_average_day.hours, autumn_average_day.sub_meter_3, label = \"autumn\")\n",
    "\n",
    "#legend, title, and axis-labels\n",
    "plt.legend(bbox_to_anchor=(0., 1.02, 1., .102), loc=3,\n",
    "           ncol=2, mode=\"expand\", borderaxespad=0.,prop={'size': 20})\n",
    "plt.title(\"Monthly means\",fontsize=20)\n",
    "plt.ylabel(\"Not metered energy (Wh)\",fontsize=20)\n",
    "plt.xlabel(\"Time\",fontsize=20)\n",
    "\n",
    "# set ticks\n",
    "#xticks(,fontsize = 20)    \n",
    "\n",
    "#make figure bigger after plotting\n",
    "fig = matplotlib.pyplot.gcf()       \n",
    "fig.set_size_inches(18.5, 10.5)      \n",
    "fig.savefig('test2png.png', dpi=100)"
   ]
  },
  {
   "cell_type": "code",
   "execution_count": null,
   "metadata": {},
   "outputs": [],
   "source": []
  }
 ],
 "metadata": {
  "kernelspec": {
   "display_name": "Python 3",
   "language": "python",
   "name": "python3"
  },
  "language_info": {
   "codemirror_mode": {
    "name": "ipython",
    "version": 3
   },
   "file_extension": ".py",
   "mimetype": "text/x-python",
   "name": "python",
   "nbconvert_exporter": "python",
   "pygments_lexer": "ipython3",
   "version": "3.6.5"
  }
 },
 "nbformat": 4,
 "nbformat_minor": 2
}
